{
 "cells": [
  {
   "cell_type": "code",
   "execution_count": 3,
   "id": "c5a49e72-66d5-466e-af5e-3bda90a5d5ce",
   "metadata": {},
   "outputs": [
    {
     "name": "stdout",
     "output_type": "stream",
     "text": [
      "[[0.0, 0.0], [0.0, 1.0], [1.0, 0.0], [1.0, 1.0]]\n",
      "OR OUTPUT\n",
      "tf.Tensor(\n",
      "[[-1.]\n",
      " [-1.]\n",
      " [-1.]\n",
      " [ 1.]], shape=(4, 1), dtype=float32)\n"
     ]
    }
   ],
   "source": [
    "#02_perceptron_old.py\n",
    "\n",
    "import tensorflow as tf \n",
    "\n",
    "x = [[0.0,0.0],[0.0,1.0],[1.0,0.0],[1.0,1.0]]\n",
    "y = [[-1],[1],[1],[1]]\n",
    "\n",
    "w = tf.Variable([[1.0],[1.0]])\n",
    "#b = tf.Variable(-0.5) #OR's bias \n",
    "b = tf.Variable(-1.5) #AND's bias \n",
    "\n",
    "#s_x = tf.matmul(x, w)\n",
    "s = tf.add(tf.matmul(x, w), b)\n",
    "o = tf.sign(s)\n",
    "\n",
    "print(x)\n",
    "print(\"OR OUTPUT\")\n",
    "print(o)\n"
   ]
  },
  {
   "cell_type": "code",
   "execution_count": 4,
   "id": "9bd36822-2373-4c75-bb09-2112c698fe90",
   "metadata": {},
   "outputs": [
    {
     "name": "stdout",
     "output_type": "stream",
     "text": [
      "loss at epoch 0 = 0.8918799\n",
      "loss at epoch 100 = 0.15138245\n",
      "loss at epoch 200 = 0.07788731\n",
      "loss at epoch 300 = 0.050677713\n",
      "loss at epoch 400 = 0.037015226\n",
      "loss at epoch 500 = 0.028936699\n",
      "loss at epoch 600 = 0.023647988\n",
      "loss at epoch 700 = 0.0199372\n",
      "loss at epoch 800 = 0.017199736\n",
      "loss at epoch 900 = 0.0151023\n",
      "[[2.609896]\n",
      " [2.609896]]\n",
      "[-3.9618099]\n",
      "prediction\n",
      "tf.Tensor(\n",
      "[[-0.99927604]\n",
      " [-0.87450427]\n",
      " [-0.87450427]\n",
      " [ 0.85050684]], shape=(4, 1), dtype=float32)\n"
     ]
    }
   ],
   "source": [
    "#03_perceptron_old_fit.py\n",
    "\n",
    "import tensorflow as tf \n",
    "\n",
    "x = [[0.0,0.0],[0.0,1.0],[1.0,0.0],[1.0,1.0]]\n",
    "y = [[-1],[-1],[-1],[1]]\n",
    "\n",
    "w = tf.Variable(tf.random.uniform([2,1],-0.5,0.5)) \n",
    "b = tf.Variable(tf.zeros([1]))\n",
    "\n",
    "opt = tf.keras.optimizers.SGD(learning_rate = 0.1) #w,b 미세조정\n",
    "\n",
    "def forward():  #페셉트론 추론 과정\n",
    "    s = tf.add(tf.matmul(x,w), b)\n",
    "    o = tf.tanh(s)\n",
    "    return o\n",
    "\n",
    "def loss():  #추론값과 저답 레이블 간의 오차 계산\n",
    "    o = forward()\n",
    "    return tf.reduce_mean((y-o)**2)  #mean square : 제곱 평균\n",
    "\n",
    "def train_step():   #1 step씩 훈련,  머신러닝의 훈련 한 과정\n",
    "    with tf.GradientTape() as tape:\n",
    "        l = loss()\n",
    "        grad = tape.gradient(l ,[w,b])\n",
    "        opt.apply_gradients(zip(grad, [w,b]))\n",
    "          \n",
    "for i in range(1000):\n",
    "    train_step()\n",
    "    if(i%100 ==0):\n",
    "        print(\"loss at epoch\", i, '=', loss().numpy())\n",
    "        \n",
    "print(w.numpy())\n",
    "print(b.numpy())\n",
    "\n",
    "o = forward()\n",
    "print(\"prediction\")\n",
    "print(o)"
   ]
  },
  {
   "cell_type": "code",
   "execution_count": null,
   "id": "5ef45c10-9563-4b79-b1e6-6ffc21845096",
   "metadata": {},
   "outputs": [],
   "source": []
  }
 ],
 "metadata": {
  "kernelspec": {
   "display_name": "tensorflow",
   "language": "python",
   "name": "idk-tensorflow"
  },
  "language_info": {
   "codemirror_mode": {
    "name": "ipython",
    "version": 3
   },
   "file_extension": ".py",
   "mimetype": "text/x-python",
   "name": "python",
   "nbconvert_exporter": "python",
   "pygments_lexer": "ipython3",
   "version": "3.12.4"
  }
 },
 "nbformat": 4,
 "nbformat_minor": 5
}
