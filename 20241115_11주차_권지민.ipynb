{
 "cells": [
  {
   "cell_type": "code",
   "execution_count": 14,
   "id": "7b889fef-4293-48e4-9bf1-6eb44162e645",
   "metadata": {},
   "outputs": [
    {
     "data": {
      "image/png": "[encoded data removed]",
      "text/plain": [
       "<Figure size 640x480 with 1 Axes>"
      ]
     },
     "metadata": {},
     "output_type": "display_data"
    }
   ],
   "source": [
    "# 03.active.py\n",
    "\n",
    "import numpy as np\n",
    "import matplotlib.pyplot as plt\n",
    "\n",
    "def sigmoid(x):\n",
    "    y = 1 / (1+np.exp(-x))\n",
    "    return y\n",
    "\n",
    "def num_diff(f,x):\n",
    "    h = 1.0e-4\n",
    "    dif = (f(x+h) - f(x-h)) / (2 * h)\n",
    "    return dif\n",
    "\n",
    "def step_func(x):\n",
    "    y = x>0\n",
    "    return y.astype(np.int16)\n",
    "\n",
    "def ReLu(x):\n",
    "    return np.maximum(0,x)\n",
    "    \n",
    "x = np.linspace(-5, 5)\n",
    "y = ReLu(x)\n",
    "\n",
    "# y = step_func(x)\n",
    "# y = sigmoid(x)\n",
    "# y_dif = num_diff(step_func,x)\n",
    "\n",
    "# plt.plot(x, y_dif, \"--\")\n",
    "plt.plot(x, y)\n",
    "\n",
    "plt.grid()\n",
    "plt.show()"
   ]
  },
  {
   "cell_type": "code",
   "execution_count": 22,
   "id": "a7810560-08bc-4a0d-bf71-53c44af6afe6",
   "metadata": {},
   "outputs": [
    {
     "name": "stdout",
     "output_type": "stream",
     "text": [
      "[1 2 3 4]\n",
      "(4,)\n",
      "[[1 2]\n",
      " [3 4]\n",
      " [5 6]]\n",
      "(3, 2)\n",
      "2\n"
     ]
    }
   ],
   "source": [
    "# 04.array.py\n",
    "\n",
    "# 메모\n",
    "# in = 784\n",
    "# hid1 = 1024\n",
    "# hid2 = 512\n",
    "# out = 10\n",
    "\n",
    "import numpy as np\n",
    "import matplotlib.pyplot as plt\n",
    "\n",
    "A = np.array([1, 2, 3, 4])\n",
    "print(A)\n",
    "print(A.shape)\n",
    "\n",
    "B = np.array([[1,2],[3,4],[5,6]])\n",
    "print(B)\n",
    "print(B.shape)\n",
    "print(B.shape[1])"
   ]
  },
  {
   "cell_type": "code",
   "execution_count": 21,
   "id": "dfc0ed3f-a56a-4c70-9057-74c7ea5abbe0",
   "metadata": {},
   "outputs": [
    {
     "name": "stdout",
     "output_type": "stream",
     "text": [
      "(3, 2)\n",
      "(2,)\n",
      "(3,)\n"
     ]
    }
   ],
   "source": [
    "import numpy as np\n",
    "import matplotlib.pyplot as plt\n",
    "\n",
    "A = np.array([[1,2],[3,4],[5,6]])\n",
    "print(A.shape)\n",
    "\n",
    "B = np.array([7,8])\n",
    "print(B.shape)\n",
    "\n",
    "C = np.dot(A,B)\n",
    "print(C.shape)"
   ]
  },
  {
   "cell_type": "code",
   "execution_count": 32,
   "id": "17cf68cf-6d37-4793-be1e-1ad3f4426aec",
   "metadata": {},
   "outputs": [
    {
     "name": "stdout",
     "output_type": "stream",
     "text": [
      "(2,)\n",
      "(2, 3)\n",
      "(3,)\n",
      "[0.3 0.7 1.1]\n",
      "[0.57444252 0.66818777 0.75026011]\n",
      "(3,)\n",
      "(3, 2)\n",
      "(2,)\n",
      "[0.51615984 1.21402696]\n",
      "[0.62624937 0.7710107 ]\n",
      "[0.31682708 0.69627909]\n",
      "(2,)\n",
      "[0.31682708 0.69627909]\n"
     ]
    }
   ],
   "source": [
    "# 05.simple_mlp.py\n",
    "\n",
    "import numpy as np\n",
    "import matplotlib.pyplot as plt\n",
    "\n",
    "def sigmoid(x):\n",
    "    y = 1 / (1+np.exp(-x))\n",
    "    return y\n",
    "\n",
    "def identity_fun(x):\n",
    "    return x\n",
    "    \n",
    "X = np.array([1.0,0.5])\n",
    "W1 = np.array([[0.1,0.3,0.5],[0.2,0.4,0.6]])\n",
    "B1 = np.array([0.1,0.2,0.3])\n",
    "\n",
    "print(X.shape)\n",
    "print(W1.shape)\n",
    "print(B1.shape)\n",
    "\n",
    "A1 = np.dot(X,W1) + B1\n",
    "print(A1)\n",
    "\n",
    "Z1 = sigmoid(A1)\n",
    "print(Z1)\n",
    "\n",
    "W2 = np.array([[0.1,0.4],[0.2,0.5],[0.3,0.6]])\n",
    "B2 = np.array([0.1,0.2])\n",
    "\n",
    "print(Z1.shape)\n",
    "print(W2.shape)\n",
    "print(B2.shape)\n",
    "\n",
    "A2 = np.dot(Z1,W2) + B2\n",
    "print(A2)\n",
    "\n",
    "Z2 = sigmoid(A2)\n",
    "print(Z2)\n",
    "\n",
    "W3 = np.array([[0.1,0.3],[0.2,0.4]])\n",
    "B3 = np.array([0.1,0.2])\n",
    "\n",
    "A3 = np.dot(Z2, W3) + B3\n",
    "Y = identity_fun(A3)\n",
    "print(A3)\n",
    "print(Y.shape)\n",
    "print(Y)"
   ]
  },
  {
   "cell_type": "code",
   "execution_count": null,
   "id": "e9cc37d8-5526-49dc-a8d1-bef7ea03361b",
   "metadata": {},
   "outputs": [],
   "source": []
  }
 ],
 "metadata": {
  "kernelspec": {
   "display_name": "tensorflow",
   "language": "python",
   "name": "idk-tensorflow"
  },
  "language_info": {
   "codemirror_mode": {
    "name": "ipython",
    "version": 3
   },
   "file_extension": ".py",
   "mimetype": "text/x-python",
   "name": "python",
   "nbconvert_exporter": "python",
   "pygments_lexer": "ipython3",
   "version": "3.12.4"
  }
 },
 "nbformat": 4,
 "nbformat_minor": 5
}
