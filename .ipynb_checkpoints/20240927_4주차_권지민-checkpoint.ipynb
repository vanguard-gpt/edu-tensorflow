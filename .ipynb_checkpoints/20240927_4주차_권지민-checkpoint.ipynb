{
 "cells": [
  {
   "cell_type": "code",
   "execution_count": null,
   "id": "7eb6a298-c8f4-47c4-8036-d198533e997f",
   "metadata": {},
   "outputs": [
    {
     "name": "stdout",
     "output_type": "stream",
     "text": [
      "Downloading data from https://storage.googleapis.com/tensorflow/tf-keras-datasets/mnist.npz\n",
      "\u001b[1m11490434/11490434\u001b[0m \u001b[32m━━━━━━━━━━━━━━━━━━━━\u001b[0m\u001b[37m\u001b[0m \u001b[1m1s\u001b[0m 0us/step\n",
      "(60000, 784)\n",
      "(60000, 10)\n",
      "Epoch 1/30\n"
     ]
    },
    {
     "name": "stderr",
     "output_type": "stream",
     "text": [
      "/Users/test/Documents/kjm996/2024-2학기/AI-머신러닝/idk-tensorflow/lib/python3.12/site-packages/keras/src/layers/core/dense.py:87: UserWarning: Do not pass an `input_shape`/`input_dim` argument to a layer. When using Sequential models, prefer using an `Input(shape)` object as the first layer in the model instead.\n",
      "  super().__init__(activity_regularizer=activity_regularizer, **kwargs)\n"
     ]
    },
    {
     "name": "stdout",
     "output_type": "stream",
     "text": [
      "469/469 - 2s - 3ms/step - accuracy: 0.8436 - loss: 0.0428 - val_accuracy: 0.9101 - val_loss: 0.0298\n",
      "Epoch 2/30\n",
      "469/469 - 1s - 3ms/step - accuracy: 0.9283 - loss: 0.0224 - val_accuracy: 0.9393 - val_loss: 0.0187\n",
      "Epoch 3/30\n",
      "469/469 - 1s - 3ms/step - accuracy: 0.9476 - loss: 0.0164 - val_accuracy: 0.9528 - val_loss: 0.0149\n",
      "Epoch 4/30\n",
      "469/469 - 1s - 3ms/step - accuracy: 0.9565 - loss: 0.0137 - val_accuracy: 0.9580 - val_loss: 0.0130\n",
      "Epoch 5/30\n",
      "469/469 - 1s - 3ms/step - accuracy: 0.9629 - loss: 0.0120 - val_accuracy: 0.9613 - val_loss: 0.0119\n",
      "Epoch 6/30\n",
      "469/469 - 1s - 3ms/step - accuracy: 0.9675 - loss: 0.0109 - val_accuracy: 0.9644 - val_loss: 0.0111\n",
      "Epoch 7/30\n",
      "469/469 - 1s - 3ms/step - accuracy: 0.9708 - loss: 0.0101 - val_accuracy: 0.9668 - val_loss: 0.0102\n",
      "Epoch 8/30\n",
      "469/469 - 1s - 3ms/step - accuracy: 0.9736 - loss: 0.0095 - val_accuracy: 0.9678 - val_loss: 0.0113\n",
      "Epoch 9/30\n",
      "469/469 - 1s - 3ms/step - accuracy: 0.9758 - loss: 0.0089 - val_accuracy: 0.9698 - val_loss: 0.0102\n",
      "Epoch 10/30\n",
      "469/469 - 1s - 3ms/step - accuracy: 0.9769 - loss: 0.0085 - val_accuracy: 0.9708 - val_loss: 0.0093\n",
      "Epoch 11/30\n",
      "469/469 - 1s - 3ms/step - accuracy: 0.9793 - loss: 0.0080 - val_accuracy: 0.9715 - val_loss: 0.0093\n",
      "Epoch 12/30\n",
      "469/469 - 1s - 3ms/step - accuracy: 0.9807 - loss: 0.0076 - val_accuracy: 0.9719 - val_loss: 0.0094\n",
      "Epoch 13/30\n",
      "469/469 - 1s - 3ms/step - accuracy: 0.9820 - loss: 0.0074 - val_accuracy: 0.9721 - val_loss: 0.0090\n",
      "Epoch 14/30\n",
      "469/469 - 1s - 3ms/step - accuracy: 0.9832 - loss: 0.0072 - val_accuracy: 0.9732 - val_loss: 0.0084\n",
      "Epoch 15/30\n",
      "469/469 - 1s - 3ms/step - accuracy: 0.9839 - loss: 0.0068 - val_accuracy: 0.9746 - val_loss: 0.0082\n",
      "Epoch 16/30\n",
      "469/469 - 1s - 3ms/step - accuracy: 0.9847 - loss: 0.0066 - val_accuracy: 0.9747 - val_loss: 0.0083\n",
      "Epoch 17/30\n",
      "469/469 - 1s - 3ms/step - accuracy: 0.9862 - loss: 0.0064 - val_accuracy: 0.9741 - val_loss: 0.0082\n",
      "Epoch 18/30\n"
     ]
    }
   ],
   "source": [
    "# 10_MNIST_LEARN\n",
    "\n",
    "import numpy as np\n",
    "import matplotlib.pyplot as plt\n",
    "\n",
    "import tensorflow as tf\n",
    "import tensorflow.keras.datasets as ds\n",
    "\n",
    "from tensorflow.keras.models import Sequential\n",
    "from tensorflow.keras.layers import Dense\n",
    "from tensorflow.keras.optimizers import Adam\n",
    "\n",
    "(x_train, y_train), (x_test, y_test) = ds.mnist.load_data()\n",
    "\n",
    "x_train = x_train.reshape(60000,784)  # 3D --> 2D  reshaping\n",
    "x_test = x_test.reshape(10000,784)\n",
    "\n",
    "x_train = x_train.astype(np.float32)/255.0 # nomarlization\n",
    "x_test = x_test.astype(np.float32)/255.0\n",
    "print(x_train.shape)\n",
    "\n",
    "y_train = tf.keras.utils.to_categorical(y_train, 10) # to one-hot enc\n",
    "y_test = tf.keras.utils.to_categorical(y_test, 10)\n",
    "print(y_train.shape)\n",
    "\n",
    "n_input = 784\n",
    "n_hidden = 1024\n",
    "n_output = 10\n",
    "\n",
    "mlp = Sequential()\n",
    "\n",
    "mlp.add(Dense(units = n_hidden, activation = 'tanh',\n",
    "              input_shape = (n_input, ), kernel_initializer='random_uniform',\n",
    "              bias_initializer='zeros'))\n",
    "\n",
    "mlp.add(Dense(units = n_output, activation = 'tanh',\n",
    "              kernel_initializer='random_uniform',\n",
    "              bias_initializer='zeros'))\n",
    "\n",
    "mlp.compile(loss='mean_squared_error',optimizer=Adam(learning_rate=0.001),\n",
    "            metrics=[\"accuracy\"])\n",
    "\n",
    "hist = mlp.fit(x_train, y_train, batch_size = 128, \n",
    "               epochs = 30, validation_data=(x_test,y_test),\n",
    "               verbose=2)\n",
    "\n",
    "res = mlp.evaluate(x_test, y_test, verbose=0)\n",
    "print(\"정확률:\", res[1]*100)\n",
    "\n",
    "mlp.save('202016026_권지민_MNIST.keras')"
   ]
  },
  {
   "cell_type": "code",
   "execution_count": null,
   "id": "e3ca34ac-12e4-4ea4-8e44-22674cc1b141",
   "metadata": {},
   "outputs": [],
   "source": []
  }
 ],
 "metadata": {
  "kernelspec": {
   "display_name": "Python 3 (ipykernel)",
   "language": "python",
   "name": "python3"
  },
  "language_info": {
   "codemirror_mode": {
    "name": "ipython",
    "version": 3
   },
   "file_extension": ".py",
   "mimetype": "text/x-python",
   "name": "python",
   "nbconvert_exporter": "python",
   "pygments_lexer": "ipython3",
   "version": "3.12.4"
  }
 },
 "nbformat": 4,
 "nbformat_minor": 5
}
